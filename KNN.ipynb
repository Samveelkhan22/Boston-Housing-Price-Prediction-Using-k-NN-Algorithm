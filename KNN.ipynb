{
  "nbformat": 4,
  "nbformat_minor": 0,
  "metadata": {
    "colab": {
      "provenance": []
    },
    "kernelspec": {
      "name": "python3",
      "display_name": "Python 3"
    },
    "language_info": {
      "name": "python"
    }
  },
  "cells": [
    {
      "cell_type": "markdown",
      "source": [
        "#7.2"
      ],
      "metadata": {
        "id": "gh_P3BODTNpY"
      }
    },
    {
      "cell_type": "markdown",
      "source": [
        "#Part a"
      ],
      "metadata": {
        "id": "xaZXtqwBMoim"
      }
    },
    {
      "cell_type": "code",
      "source": [
        "import pandas as pd\n",
        "from sklearn.model_selection import train_test_split\n",
        "from sklearn.preprocessing import StandardScaler\n",
        "from sklearn.neighbors import KNeighborsClassifier\n",
        "from sklearn.metrics import confusion_matrix, accuracy_score\n",
        "import seaborn as sns\n",
        "import matplotlib.pyplot as plt\n",
        "\n",
        "# Step 1: Load the dataset\n",
        "data = pd.read_csv('UniversalBank.csv')\n",
        "\n",
        "# Step 2: Drop 'ID' and 'ZIP Code'\n",
        "data = data.drop(['ID', 'ZIP Code'], axis=1)\n",
        "\n",
        "# Step 3: Convert 'Education' into dummy variables\n",
        "data = pd.get_dummies(data, columns=['Education'], drop_first=True)\n",
        "\n",
        "# Step 4: Define predictors and target\n",
        "X = data.drop('PersonalLoan', axis=1)\n",
        "y = data['PersonalLoan']\n",
        "\n",
        "# Step 5: Split the data into training (60%) and validation (40%) sets\n",
        "X_train, X_valid, y_train, y_valid = train_test_split(\n",
        "    X, y, test_size=0.4, random_state=1, stratify=y\n",
        ")\n",
        "\n",
        "# Step 6: Feature Scaling\n",
        "scaler = StandardScaler()\n",
        "scaler.fit(X_train)\n",
        "X_train_scaled = scaler.transform(X_train)\n",
        "X_valid_scaled = scaler.transform(X_valid)\n",
        "\n",
        "# Step 7: Prepare the new customer's data\n",
        "new_customer_data = {\n",
        "    'Age': 40,\n",
        "    'Experience': 10,\n",
        "    'Income': 84,\n",
        "    'Family': 2,\n",
        "    'CCAvg': 2,\n",
        "    'Mortgage': 0,\n",
        "    'SecuritiesAccount': 0,\n",
        "    'CDAccount': 0,\n",
        "    'Online': 1,\n",
        "    'CreditCard': 1,\n",
        "    'Education_2': 1,  # Education level 2\n",
        "    'Education_3': 0   # Education level 3\n",
        "}\n",
        "\n",
        "new_customer = pd.DataFrame([new_customer_data])\n",
        "\n",
        "# Align new customer's data with training features\n",
        "feature_names = X.columns.tolist()\n",
        "missing_cols = set(feature_names) - set(new_customer.columns)\n",
        "for col in missing_cols:\n",
        "    new_customer[col] = 0\n",
        "\n",
        "new_customer = new_customer[feature_names]\n",
        "\n",
        "# Step 8: Scale the new customer's data\n",
        "new_customer_scaled = scaler.transform(new_customer)\n",
        "\n",
        "# Step 9: Train the k-NN model with k=1\n",
        "knn = KNeighborsClassifier(n_neighbors=1)\n",
        "knn.fit(X_train_scaled, y_train)\n",
        "\n",
        "# Step 10: Predict for the new customer\n",
        "new_customer_prediction = knn.predict(new_customer_scaled)\n",
        "\n",
        "print(f\"New Customer Classification (k=1): {new_customer_prediction[0]}\")\n"
      ],
      "metadata": {
        "colab": {
          "base_uri": "https://localhost:8080/"
        },
        "id": "EMLpmrj9HsGW",
        "outputId": "c8f6a29e-9377-464e-a2d8-af2198f12481"
      },
      "execution_count": 11,
      "outputs": [
        {
          "output_type": "stream",
          "name": "stdout",
          "text": [
            "New Customer Classification (k=1): 0\n"
          ]
        }
      ]
    },
    {
      "cell_type": "markdown",
      "source": [
        "#Part b"
      ],
      "metadata": {
        "id": "gwnAOFoHMs0N"
      }
    },
    {
      "cell_type": "code",
      "source": [
        "import pandas as pd\n",
        "from sklearn.model_selection import train_test_split\n",
        "from sklearn.preprocessing import StandardScaler\n",
        "from sklearn.neighbors import KNeighborsClassifier\n",
        "from sklearn.metrics import accuracy_score\n",
        "import matplotlib.pyplot as plt\n",
        "\n",
        "# Load the dataset\n",
        "data = pd.read_csv('UniversalBank.csv')\n",
        "\n",
        "# Drop ID and ZIP Code as they're not relevant for prediction\n",
        "data = data.drop(columns=['ID', 'ZIP Code'])\n",
        "\n",
        "# Convert 'Education' to dummy variables (drop first category to avoid multicollinearity)\n",
        "data = pd.get_dummies(data, columns=['Education'], drop_first=True)\n",
        "\n",
        "# Define features (X) and target (y)\n",
        "X = data.drop('PersonalLoan', axis=1)\n",
        "y = data['PersonalLoan']\n",
        "\n",
        "# Split the data into 60% training and 40% validation sets\n",
        "X_train, X_valid, y_train, y_valid = train_test_split(X, y, test_size=0.4, random_state=1)\n",
        "\n",
        "# Standardize the features (important for k-NN)\n",
        "scaler = StandardScaler()\n",
        "X_train_scaled = scaler.fit_transform(X_train)\n",
        "X_valid_scaled = scaler.transform(X_valid)\n",
        "\n",
        "# Try different values of k\n",
        "k_values = range(1, 21)\n",
        "train_accuracies = []\n",
        "valid_accuracies = []\n",
        "\n",
        "for k in k_values:\n",
        "    # Initialize k-NN with the current k\n",
        "    knn = KNeighborsClassifier(n_neighbors=k)\n",
        "\n",
        "    # Train the model\n",
        "    knn.fit(X_train_scaled, y_train)\n",
        "\n",
        "    # Predict on the training and validation sets\n",
        "    y_train_pred = knn.predict(X_train_scaled)\n",
        "    y_valid_pred = knn.predict(X_valid_scaled)\n",
        "\n",
        "    # Compute accuracy for both training and validation sets\n",
        "    train_acc = accuracy_score(y_train, y_train_pred)\n",
        "    valid_acc = accuracy_score(y_valid, y_valid_pred)\n",
        "\n",
        "    # Store the accuracies\n",
        "    train_accuracies.append(train_acc)\n",
        "    valid_accuracies.append(valid_acc)\n",
        "\n",
        "# Plot the accuracies for different values of k\n",
        "plt.figure(figsize=(10, 6))\n",
        "plt.plot(k_values, train_accuracies, label='Training Accuracy', marker='o')\n",
        "plt.plot(k_values, valid_accuracies, label='Validation Accuracy', marker='o')\n",
        "plt.title('Accuracy vs. k in k-NN')\n",
        "plt.xlabel('Number of Neighbors (k)')\n",
        "plt.ylabel('Accuracy')\n",
        "plt.legend()\n",
        "plt.grid(True)\n",
        "plt.show()\n",
        "\n",
        "# Find the optimal k (the one with the highest validation accuracy)\n",
        "best_k = k_values[valid_accuracies.index(max(valid_accuracies))]\n",
        "print(f\"The optimal value of k is: {best_k}\")\n"
      ],
      "metadata": {
        "colab": {
          "base_uri": "https://localhost:8080/",
          "height": 581
        },
        "id": "jiHzC04OKwG7",
        "outputId": "54dcb79d-0b88-46db-8a01-bd37f98d1e2d"
      },
      "execution_count": 13,
      "outputs": [
        {
          "output_type": "display_data",
          "data": {
            "text/plain": [
              "<Figure size 1000x600 with 1 Axes>"
            ],
            "image/png": "[encoded data removed]"
          },
          "metadata": {}
        },
        {
          "output_type": "stream",
          "name": "stdout",
          "text": [
            "The optimal value of k is: 1\n"
          ]
        }
      ]
    },
    {
      "cell_type": "markdown",
      "source": [
        "#Part c"
      ],
      "metadata": {
        "id": "nn0vy6zYMxgd"
      }
    },
    {
      "cell_type": "code",
      "source": [
        "# Import necessary libraries for confusion matrix\n",
        "from sklearn.metrics import confusion_matrix, ConfusionMatrixDisplay\n",
        "\n",
        "# Step 1: Train the k-NN model using the best k (in this case k=1)\n",
        "knn_best = KNeighborsClassifier(n_neighbors=1)\n",
        "knn_best.fit(X_train_scaled, y_train)\n",
        "\n",
        "# Step 2: Make predictions on the validation data\n",
        "y_valid_pred = knn_best.predict(X_valid_scaled)\n",
        "\n",
        "# Step 3: Generate and display the confusion matrix\n",
        "cm = confusion_matrix(y_valid, y_valid_pred)\n",
        "disp = ConfusionMatrixDisplay(confusion_matrix=cm, display_labels=knn_best.classes_)\n",
        "\n",
        "# Plot the confusion matrix\n",
        "disp.plot(cmap='Blues')\n",
        "plt.title(f'Confusion Matrix for k=1')\n",
        "plt.show()\n"
      ],
      "metadata": {
        "colab": {
          "base_uri": "https://localhost:8080/",
          "height": 472
        },
        "id": "vLvzZp4yLVbn",
        "outputId": "8b121aa1-7cf7-4b50-fc0d-cdf1d9b32d80"
      },
      "execution_count": 14,
      "outputs": [
        {
          "output_type": "display_data",
          "data": {
            "text/plain": [
              "<Figure size 640x480 with 2 Axes>"
            ],
            "image/png": "[encoded data removed]"
          },
          "metadata": {}
        }
      ]
    },
    {
      "cell_type": "markdown",
      "source": [
        "#Part d"
      ],
      "metadata": {
        "id": "n4_buasjM7wM"
      }
    },
    {
      "cell_type": "code",
      "source": [
        "# Given customer details for classification\n",
        "new_customer = pd.DataFrame({\n",
        "    'Age': [40],\n",
        "    'Experience': [10],\n",
        "    'Income': [84],\n",
        "    'Family': [2],\n",
        "    'CCAvg': [2],\n",
        "    'Mortgage': [0],\n",
        "    'SecuritiesAccount': [0],\n",
        "    'CDAccount': [0],\n",
        "    'Online': [1],\n",
        "    'CreditCard': [1],\n",
        "    'Education_2': [1],  # Education_2 corresponds to Education level 2\n",
        "    'Education_3': [0]   # Education_3 corresponds to Education level 3\n",
        "    # Education_1 is omitted since drop_first=True in pd.get_dummies() during training\n",
        "})\n",
        "\n",
        "# Ensure the new customer's columns match those in X_train\n",
        "# If the training data had any other dummy variables, ensure they are handled here\n",
        "\n",
        "# Standardize the new customer features using the scaler fitted on the training data\n",
        "new_customer_scaled = scaler.transform(new_customer)\n",
        "\n",
        "# Classify the new customer using the best k-NN model\n",
        "new_customer_prediction = knn_best.predict(new_customer_scaled)\n",
        "\n",
        "# Output the classification result\n",
        "print(f\"New Customer Classification (k={best_k}): {new_customer_prediction[0]}\")\n"
      ],
      "metadata": {
        "colab": {
          "base_uri": "https://localhost:8080/"
        },
        "id": "KMGpyLunLX3b",
        "outputId": "fe490a26-f609-42a9-91dc-5f8df253f297"
      },
      "execution_count": 16,
      "outputs": [
        {
          "output_type": "stream",
          "name": "stdout",
          "text": [
            "New Customer Classification (k=1): 0\n"
          ]
        }
      ]
    },
    {
      "cell_type": "markdown",
      "source": [
        "#Part e"
      ],
      "metadata": {
        "id": "MqwZa4guMz4j"
      }
    },
    {
      "cell_type": "code",
      "source": [
        "# Step 1: Repartition the data into training (50%), validation (30%), and test (20%) sets\n",
        "X_train, X_temp, y_train, y_temp = train_test_split(X, y, test_size=0.5, random_state=1)  # 50% training, 50% temp\n",
        "X_valid, X_test, y_valid, y_test = train_test_split(X_temp, y_temp, test_size=0.4, random_state=1)  # 30% valid, 20% test\n",
        "\n",
        "# Step 2: Standardize the features\n",
        "scaler = StandardScaler()\n",
        "X_train_scaled = scaler.fit_transform(X_train)\n",
        "X_valid_scaled = scaler.transform(X_valid)\n",
        "X_test_scaled = scaler.transform(X_test)\n",
        "\n",
        "# Step 3: Train the k-NN model with the best k (previously determined)\n",
        "knn_best = KNeighborsClassifier(n_neighbors=best_k)\n",
        "knn_best.fit(X_train_scaled, y_train)\n",
        "\n",
        "# Step 4: Predict on the validation and test sets\n",
        "y_valid_pred = knn_best.predict(X_valid_scaled)\n",
        "y_test_pred = knn_best.predict(X_test_scaled)\n",
        "\n",
        "# Step 5: Calculate confusion matrices\n",
        "confusion_matrix_valid = confusion_matrix(y_valid, y_valid_pred)\n",
        "confusion_matrix_test = confusion_matrix(y_test, y_test_pred)\n",
        "\n",
        "# Display confusion matrices\n",
        "print(\"Confusion Matrix for Validation Set:\")\n",
        "print(confusion_matrix_valid)\n",
        "print(\"\\nConfusion Matrix for Test Set:\")\n",
        "print(confusion_matrix_test)\n"
      ],
      "metadata": {
        "colab": {
          "base_uri": "https://localhost:8080/"
        },
        "id": "xQ4pkAbwMfYK",
        "outputId": "0d75cf8f-6523-4630-b1f8-1e52fcff4932"
      },
      "execution_count": 17,
      "outputs": [
        {
          "output_type": "stream",
          "name": "stdout",
          "text": [
            "Confusion Matrix for Validation Set:\n",
            "[[1333   16]\n",
            " [  52   99]]\n",
            "\n",
            "Confusion Matrix for Test Set:\n",
            "[[897  15]\n",
            " [ 28  60]]\n"
          ]
        }
      ]
    },
    {
      "cell_type": "markdown",
      "source": [
        "#7.3"
      ],
      "metadata": {
        "id": "XeESC5riNlVU"
      }
    },
    {
      "cell_type": "markdown",
      "source": [
        "#part a"
      ],
      "metadata": {
        "id": "LLL22l4zNoWO"
      }
    },
    {
      "cell_type": "code",
      "source": [
        "import pandas as pd\n",
        "from sklearn.model_selection import train_test_split\n",
        "from sklearn.preprocessing import StandardScaler\n",
        "from sklearn.neighbors import KNeighborsRegressor\n",
        "from sklearn.metrics import mean_squared_error\n",
        "\n",
        "# Step 1: Load the dataset\n",
        "data = pd.read_csv('BostonHousing.csv')\n",
        "\n",
        "# Step 2: Define predictors and target\n",
        "X = data.iloc[:, :-1]  # First 12 columns as predictors\n",
        "y = data['MEDV']        # Target column\n",
        "\n",
        "# Step 3: Normalize the data\n",
        "scaler = StandardScaler()\n",
        "X_normalized = scaler.fit_transform(X)\n",
        "\n",
        "# Step 4: Split data into 60% training and 40% validation\n",
        "X_train, X_valid, y_train, y_valid = train_test_split(X_normalized, y, test_size=0.4, random_state=1)\n",
        "\n",
        "# Step 5: Perform k-NN for k from 1 to 5 and evaluate performance\n",
        "k_values = range(1, 6)\n",
        "mse_values = []\n",
        "\n",
        "for k in k_values:\n",
        "    knn = KNeighborsRegressor(n_neighbors=k)\n",
        "    knn.fit(X_train, y_train)\n",
        "    y_pred = knn.predict(X_valid)\n",
        "    mse = mean_squared_error(y_valid, y_pred)\n",
        "    mse_values.append(mse)\n",
        "\n",
        "# Find the best k\n",
        "best_k = k_values[mse_values.index(min(mse_values))]\n",
        "best_mse = min(mse_values)\n",
        "\n",
        "# Output the results\n",
        "print(\"Mean Squared Errors for k values:\", mse_values)\n",
        "print(\"Best k:\", best_k)\n",
        "print(\"Best Mean Squared Error:\", best_mse)\n"
      ],
      "metadata": {
        "colab": {
          "base_uri": "https://localhost:8080/"
        },
        "id": "EYHCDPMzNs3_",
        "outputId": "c5e5cfaf-0615-47d2-edc4-95daebd02669"
      },
      "execution_count": 19,
      "outputs": [
        {
          "output_type": "stream",
          "name": "stdout",
          "text": [
            "Mean Squared Errors for k values: [9.427980295566503, 9.24899014778325, 10.20253968253968, 11.48596674876847, 12.920331034482757]\n",
            "Best k: 2\n",
            "Best Mean Squared Error: 9.24899014778325\n"
          ]
        }
      ]
    },
    {
      "cell_type": "markdown",
      "source": [
        "#Part b"
      ],
      "metadata": {
        "id": "43wXc87kPWUN"
      }
    },
    {
      "cell_type": "code",
      "source": [
        "import pandas as pd\n",
        "from sklearn.model_selection import train_test_split\n",
        "from sklearn.preprocessing import StandardScaler\n",
        "from sklearn.neighbors import KNeighborsRegressor\n",
        "\n",
        "# Load the dataset\n",
        "data = pd.read_csv('BostonHousing.csv')\n",
        "\n",
        "# Select features and target variable\n",
        "X = data.iloc[:, :-1]  # First 12 columns\n",
        "y = data['MEDV']  # Target variable\n",
        "\n",
        "# Partition the data into training (60%) and validation (40%) sets\n",
        "X_train, X_val, y_train, y_val = train_test_split(X, y, test_size=0.4, random_state=42)\n",
        "\n",
        "# Normalize the data\n",
        "scaler = StandardScaler()\n",
        "X_train_scaled = scaler.fit_transform(X_train)\n",
        "X_val_scaled = scaler.transform(X_val)\n",
        "\n",
        "# Use k=2 from previous analysis (you can adjust this if needed)\n",
        "best_k = 2\n",
        "\n",
        "# Train k-NN model with best k\n",
        "knn_best = KNeighborsRegressor(n_neighbors=best_k)\n",
        "knn_best.fit(X_train_scaled, y_train)\n",
        "\n",
        "# Part B: Predict MEDV for a specific tract using the best k\n",
        "new_tract_data = {\n",
        "    'CRIM': 0.2,\n",
        "    'ZN': 0,\n",
        "    'INDUS': 7,\n",
        "    'CHAS': 0,\n",
        "    'NOX': 0.538,\n",
        "    'RM': 6,\n",
        "    'AGE': 62,\n",
        "    'DIS': 4.7,\n",
        "    'RAD': 4,\n",
        "    'TAX': 307,\n",
        "    'PTRATIO': 21,\n",
        "    'LSTAT': 10\n",
        "}\n",
        "\n",
        "# Create DataFrame for new tract\n",
        "new_tract = pd.DataFrame(new_tract_data, index=[0])\n",
        "\n",
        "# Ensure the new tract has the same feature columns as X_train\n",
        "new_tract = new_tract.reindex(columns=X_train.columns, fill_value=0)\n",
        "\n",
        "# Normalize the new tract data\n",
        "new_tract_scaled = scaler.transform(new_tract)\n",
        "\n",
        "# Predict MEDV using the best k\n",
        "predicted_medv = knn_best.predict(new_tract_scaled)\n",
        "\n",
        "# Output the result\n",
        "print(\"Predicted MEDV for the new tract:\", predicted_medv[0])\n"
      ],
      "metadata": {
        "colab": {
          "base_uri": "https://localhost:8080/"
        },
        "id": "uyQj6gauPX7c",
        "outputId": "8eaeb051-4ec8-479d-9936-3fef1997ed7f"
      },
      "execution_count": 26,
      "outputs": [
        {
          "output_type": "stream",
          "name": "stdout",
          "text": [
            "Predicted MEDV for the new tract: 15.05\n"
          ]
        }
      ]
    },
    {
      "cell_type": "markdown",
      "source": [
        "#Part c"
      ],
      "metadata": {
        "id": "0GMVlgcbQXTc"
      }
    },
    {
      "cell_type": "code",
      "source": [
        "from sklearn.metrics import mean_squared_error\n",
        "\n",
        "# Predict MEDV for the training set\n",
        "y_train_pred = knn_best.predict(X_train_scaled)\n",
        "\n",
        "# Calculate Mean Squared Error (MSE) for the training set\n",
        "training_error = mean_squared_error(y_train, y_train_pred)\n",
        "\n",
        "# Output the training error\n",
        "print(\"Mean Squared Error of the training set:\", training_error)\n"
      ],
      "metadata": {
        "colab": {
          "base_uri": "https://localhost:8080/"
        },
        "id": "b5LioZD8QYqJ",
        "outputId": "738cbda1-5913-4475-eedd-df35e2766b77"
      },
      "execution_count": 27,
      "outputs": [
        {
          "output_type": "stream",
          "name": "stdout",
          "text": [
            "Mean Squared Error of the training set: 2.6715264026402634\n"
          ]
        }
      ]
    },
    {
      "cell_type": "markdown",
      "source": [
        "#Part d"
      ],
      "metadata": {
        "id": "_VzGCH83QdG7"
      }
    },
    {
      "cell_type": "markdown",
      "source": [
        "The validation data error can appear overly optimistic compared to the error rate when applying the k-NN predictor to new data for several reasons:\n",
        "\n",
        "Overfitting:\n",
        "\n",
        "The k-NN algorithm can memorize the training data, especially with a small value of k. This means it might perform very well on the training and validation sets but not generalize well to unseen data.\n",
        "\n",
        "Data Leakage:\n",
        "\n",
        "If any information from the test set unintentionally influences the model during training or validation, it can lead to overly optimistic performance metrics.\n",
        "\n",
        "Small Sample Size:\n",
        "\n",
        "Validation datasets are typically smaller than the training dataset. If the validation set does not adequately represent the overall data distribution, the model may seem to perform better than it actually would on a larger, more representative dataset.\n",
        "\n",
        "Variability:\n",
        "\n",
        "The specific samples chosen for the validation set can lead to variability in performance. If the validation set happens to include easier cases, the model’s performance will be skewed positively.\n",
        "\n",
        "Choice of Metrics:\n",
        "\n",
        "Different metrics (e.g., MSE, accuracy) can lead to different interpretations of performance. Relying solely on validation metrics can be misleading without considering how the model will perform on truly unseen data.\n",
        "\n",
        "Simplistic Assumptions:\n",
        "\n",
        "The k-NN algorithm assumes that similar instances are close in the feature space. If the training and validation datasets have different underlying distributions or characteristics, this assumption may not hold true for new data."
      ],
      "metadata": {
        "id": "-165VilrQ_Zi"
      }
    },
    {
      "cell_type": "markdown",
      "source": [
        "#Part e"
      ],
      "metadata": {
        "id": "kPYuVdYYSgR0"
      }
    },
    {
      "cell_type": "markdown",
      "source": [
        "Using k-NN prediction for predicting MEDV for several thousand new tracts has several disadvantages:\n",
        "\n",
        "Disadvantages of k-NN Prediction:\n",
        "\n",
        "Computational Complexity:\n",
        "\n",
        "k-NN is a lazy learning algorithm, meaning it doesn't build a model during training. Instead, it stores the entire training dataset. For each new prediction, it must compute distances to all training examples, leading to high computational costs, especially with large datasets.\n",
        "\n",
        "Memory Usage:\n",
        "\n",
        "Since k-NN stores the entire dataset, it can consume a significant amount of memory, which may be impractical for very large datasets.\n",
        "\n",
        "Prediction Time:\n",
        "\n",
        "The time taken to make predictions can be quite slow, as it requires comparing the new instance with all training instances.\n",
        "\n",
        "Sensitivity to Irrelevant Features:\n",
        "\n",
        "k-NN can be affected by irrelevant features and noise in the data, leading to poorer predictions if the dataset contains many features that do not contribute to the target variable.\n",
        "\n",
        "Curse of Dimensionality:\n",
        "\n",
        "As the number of features increases, the distance between points becomes less meaningful. This can degrade the performance of k-NN in high-dimensional spaces.\n",
        "\n",
        "Data Imbalance:\n",
        "\n",
        "If the training dataset is imbalanced (e.g., more examples of one class than another), k-NN may be biased towards the majority class, affecting prediction accuracy.\n",
        "Operations of k-NN for Each Prediction:\n",
        "\n",
        "Receive Input:\n",
        "\n",
        "The algorithm receives the feature vector of the new tract.\n",
        "\n",
        "Calculate Distances:\n",
        "\n",
        "Compute the distance (e.g., Euclidean distance) between the new tract and all points in the training dataset.\n",
        "\n",
        "Sort Distances:\n",
        "\n",
        "Sort the calculated distances in ascending order to identify the closest neighbors.\n",
        "\n",
        "Select Neighbors:\n",
        "\n",
        "Choose the k nearest neighbors based on the sorted distances.\n",
        "\n",
        "Aggregate Predictions:\n",
        "\n",
        "For regression tasks like predicting MEDV, average the values of the k nearest neighbors to produce the final prediction.\n",
        "\n",
        "Return Prediction:\n",
        "\n",
        "Output the predicted value for the new tract based on the aggregated results from the nearest neighbors."
      ],
      "metadata": {
        "id": "dQ0-tmVVS7bL"
      }
    }
  ]
}